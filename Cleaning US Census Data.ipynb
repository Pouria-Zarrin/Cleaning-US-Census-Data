{
 "cells": [
  {
   "cell_type": "markdown",
   "metadata": {},
   "source": [
    "# Cleaning US Census Data"
   ]
  },
  {
   "cell_type": "markdown",
   "metadata": {},
   "source": [
    "You just got hired as a Data Analyst at the Census Bureau, which collects census data and creates interesting visualizations and insights from it.\n",
    "\n",
    "The person who had your job before you left you all the data they had for the most recent census. It is in multiple `csv` files. They didn't use pandas, they would just look through these `csv` files manually whenever they wanted to find something. Sometimes they would copy and paste certain numbers into Excel to make charts.\n",
    "\n",
    "The thought of it makes you shiver. This is not scalable or repeatable.\n",
    "\n",
    "Your boss wants you to make some scatterplots and histograms by the end of the day. Can you get this data into `pandas` and into reasonable shape so that you can make these histograms?"
   ]
  },
  {
   "cell_type": "markdown",
   "metadata": {},
   "source": [
    "## Inspect the Data!"
   ]
  },
  {
   "cell_type": "markdown",
   "metadata": {},
   "source": [
    "1. The first visualization your boss wants you to make is a scatterplot that shows average income in a state vs proportion of women in that state.\n",
    "\n",
    "   Open some of the census `csv` files that came with the kit you downloaded. How are they named? What kind of information do they hold? Will they help us make this graph?"
   ]
  },
  {
   "cell_type": "markdown",
   "metadata": {},
   "source": [
    "2. It will be easier to inspect this data once we have it in a DataFrame. You can't even call `.head()` on these `csv`s! How are you supposed to read them?\n",
    "\n",
    "   Using `glob`, loop through the census files available and load them into DataFrames. Then, concatenate all of those DataFrames together into one DataFrame, called something like `us_census`."
   ]
  },
  {
   "cell_type": "code",
   "execution_count": 83,
   "metadata": {},
   "outputs": [
    {
     "name": "stdout",
     "output_type": "stream",
     "text": [
      "   Unnamed: 0           State  TotalPop Hispanic   White   Black Native  \\\n",
      "0           0    Rhode Island   1053661   13.36%  74.33%   5.68%  0.35%   \n",
      "1           1  South Carolina   4777576    5.06%  62.89%  28.75%  0.29%   \n",
      "2           2    South Dakota    843190    3.24%  82.50%   1.42%  9.42%   \n",
      "3           3       Tennessee   6499615    4.72%  73.49%  18.28%  0.23%   \n",
      "4           4           Texas  26538614   38.05%  44.69%  11.65%  0.26%   \n",
      "\n",
      "   Asian Pacific       Income            GenderPop  \n",
      "0  3.25%   0.04%  $59,125.27       510388M_543273F  \n",
      "1  1.25%   0.05%  $46,296.81     2322409M_2455167F  \n",
      "2  1.02%   0.04%  $51,805.41       423477M_419713F  \n",
      "3  1.41%   0.04%  $47,328.08     3167756M_3331859F  \n",
      "4  3.67%   0.07%  $55,874.52   13171316M_13367298F  \n"
     ]
    }
   ],
   "source": [
    "import pandas as pd\n",
    "import seaborn as sns\n",
    "import numpy as np\n",
    "import matplotlib.pyplot as plt\n",
    "import glob\n",
    "\n",
    "files = glob.glob(\"states*.csv\")\n",
    "\n",
    "df_list = []\n",
    "for filename in files:\n",
    "    data = pd.read_csv(filename)\n",
    "    df_list.append(data)\n",
    "\n",
    "df = pd.concat(df_list)\n",
    "\n",
    "print(df.head())"
   ]
  },
  {
   "cell_type": "markdown",
   "metadata": {},
   "source": [
    "3. Look at the `.columns` and the `.dtypes` of the `us_census` DataFrame. Are those datatypes going to hinder you as you try to make histograms?"
   ]
  },
  {
   "cell_type": "code",
   "execution_count": 84,
   "metadata": {},
   "outputs": [
    {
     "name": "stdout",
     "output_type": "stream",
     "text": [
      "Unnamed: 0     int64\n",
      "State         object\n",
      "TotalPop       int64\n",
      "Hispanic      object\n",
      "White         object\n",
      "Black         object\n",
      "Native        object\n",
      "Asian         object\n",
      "Pacific       object\n",
      "Income        object\n",
      "GenderPop     object\n",
      "dtype: object\n"
     ]
    }
   ],
   "source": [
    "print (df.dtypes)"
   ]
  },
  {
   "cell_type": "markdown",
   "metadata": {},
   "source": [
    "4. Look at the `head()` of the DataFrame so that you can understand why some of these `dtypes` are objects instead of integers or floats.\n",
    "\n",
    "   Start to make a plan for how to convert these columns into the right types for manipulation."
   ]
  },
  {
   "cell_type": "code",
   "execution_count": 85,
   "metadata": {},
   "outputs": [
    {
     "name": "stdout",
     "output_type": "stream",
     "text": [
      "   Unnamed: 0           State  TotalPop  Hispanic  White  Black  Native  \\\n",
      "0           0    Rhode Island   1053661     13.36  74.33   5.68    0.35   \n",
      "1           1  South Carolina   4777576      5.06  62.89  28.75    0.29   \n",
      "2           2    South Dakota    843190      3.24  82.50   1.42    9.42   \n",
      "3           3       Tennessee   6499615      4.72  73.49  18.28    0.23   \n",
      "4           4           Texas  26538614     38.05  44.69  11.65    0.26   \n",
      "\n",
      "   Asian  Pacific    Income            GenderPop  male_population  \\\n",
      "0   3.25     0.04  59125.27      510388M_543273F           510388   \n",
      "1   1.25     0.05  46296.81    2322409M_2455167F          2322409   \n",
      "2   1.02     0.04  51805.41      423477M_419713F           423477   \n",
      "3   1.41     0.04  47328.08    3167756M_3331859F          3167756   \n",
      "4   3.67     0.07  55874.52  13171316M_13367298F         13171316   \n",
      "\n",
      "   female_population  \n",
      "0             543273  \n",
      "1            2455167  \n",
      "2             419713  \n",
      "3            3331859  \n",
      "4           13367298  \n",
      "Unnamed: 0             int64\n",
      "State                 object\n",
      "TotalPop               int64\n",
      "Hispanic             float64\n",
      "White                float64\n",
      "Black                float64\n",
      "Native               float64\n",
      "Asian                float64\n",
      "Pacific              float64\n",
      "Income               float64\n",
      "GenderPop             object\n",
      "male_population        Int64\n",
      "female_population      Int64\n",
      "dtype: object\n"
     ]
    }
   ],
   "source": [
    "#store the columns with percentage sign in a list\n",
    "percentage_columns = ['Hispanic' , 'White' , 'Black' , 'Native' , 'Asian' , 'Pacific']\n",
    "percentage_columns_df = df[percentage_columns]\n",
    "\n",
    "#iterate through the columns and remove the percebtage sign and change the data type of the column to float\n",
    "for column_name in percentage_columns_df:\n",
    "    df[column_name] = df[column_name].replace('[\\%,]', '', regex=True)\n",
    "    df[column_name] = pd.to_numeric(df[column_name])\n",
    "\n",
    "\n",
    "#the same process for the income column with the dollar sign\n",
    "df[\"Income\"] = df[\"Income\"].replace('[\\$,]', '', regex=True)\n",
    "df['Income'] = pd.to_numeric(df['Income'])\n",
    "\n",
    "\n",
    "#the gender pop colum contains both female and male population in on string\n",
    "#first the string is halved and stored in female and male population columns\n",
    "name_split = df.GenderPop.str.split(\"_\")\n",
    "df['male_population'] = name_split.str.get(0)\n",
    "df['female_population'] = name_split.str.get(1)\n",
    "\n",
    "\n",
    "#the M and F at the end of the strings are removed and replaced with empty chartacter and columns are \n",
    "#converted to numeric type afterwards\n",
    "df['male_population'] = df['male_population'].replace('[^0-9]', \"\", regex=True)\n",
    "df['female_population'] = df['female_population'].replace('[^0-9]', \"\", regex=True)\n",
    "df['male_population'] = pd.to_numeric(df['male_population']).astype('Int64')\n",
    "df['female_population'] = pd.to_numeric(df['female_population']).astype('Int64')\n",
    "\n",
    "\n",
    "#finally the genderpop colum is dropped from the dataframe\n",
    "df.drop(columns='GenderPop', inplace=False)\n",
    "\n",
    "\n",
    "print (df.head())\n",
    "print (df.dtypes)"
   ]
  },
  {
   "cell_type": "markdown",
   "metadata": {},
   "source": [
    "8. Now you should have the columns you need to make the graph and make sure your boss does not slam a ruler angrily on your desk because you've wasted your whole day cleaning your data with no results to show!\n",
    "\n",
    "   Use matplotlib to make a scatterplot!\n",
    "   \n",
    "   ```py\n",
    "   plt.scatter(the_women_column, the_income_column)\n",
    "   ```\n",
    "   \n",
    "   Remember to call `plt.show()` to see the graph!"
   ]
  },
  {
   "cell_type": "code",
   "execution_count": 86,
   "metadata": {},
   "outputs": [
    {
     "name": "stdout",
     "output_type": "stream",
     "text": [
      "            State  TotalPop  Hispanic  White  Black  Native  Asian  Pacific  \\\n",
      "0    Rhode Island   1053661     13.36  74.33   5.68    0.35   3.25     0.04   \n",
      "1  South Carolina   4777576      5.06  62.89  28.75    0.29   1.25     0.05   \n",
      "2    South Dakota    843190      3.24  82.50   1.42    9.42   1.02     0.04   \n",
      "3       Tennessee   6499615      4.72  73.49  18.28    0.23   1.41     0.04   \n",
      "4           Texas  26538614     38.05  44.69  11.65    0.26   3.67     0.07   \n",
      "\n",
      "     Income            GenderPop  male_population  female_population  \n",
      "0  59125.27      510388M_543273F           510388             543273  \n",
      "1  46296.81    2322409M_2455167F          2322409            2455167  \n",
      "2  51805.41      423477M_419713F           423477             419713  \n",
      "3  47328.08    3167756M_3331859F          3167756            3331859  \n",
      "4  55874.52  13171316M_13367298F         13171316           13367298  \n"
     ]
    }
   ],
   "source": [
    "# the first colummn is dropped and State is considered as the index\n",
    "df = df.drop('Unnamed: 0', axis=1, errors='ignore')\n",
    "if 'States' in df.columns:\n",
    "    df = df.set_index('States')\n",
    "print (df.head())"
   ]
  },
  {
   "cell_type": "code",
   "execution_count": 125,
   "metadata": {},
   "outputs": [
    {
     "name": "stdout",
     "output_type": "stream",
     "text": [
      "            State  TotalPop  Hispanic  White  Black  Native  Asian  Pacific  \\\n",
      "0    Rhode Island   1053661     13.36  74.33   5.68    0.35   3.25     0.04   \n",
      "1  South Carolina   4777576      5.06  62.89  28.75    0.29   1.25     0.05   \n",
      "2    South Dakota    843190      3.24  82.50   1.42    9.42   1.02     0.04   \n",
      "3       Tennessee   6499615      4.72  73.49  18.28    0.23   1.41     0.04   \n",
      "4           Texas  26538614     38.05  44.69  11.65    0.26   3.67     0.07   \n",
      "\n",
      "     Income            GenderPop  male_population  female_population  \n",
      "0  59125.27      510388M_543273F           510388             543273  \n",
      "1  46296.81    2322409M_2455167F          2322409            2455167  \n",
      "2  51805.41      423477M_419713F           423477             419713  \n",
      "3  47328.08    3167756M_3331859F          3167756            3331859  \n",
      "4  55874.52  13171316M_13367298F         13171316           13367298  \n"
     ]
    },
    {
     "data": {
      "image/png": "[encoded data removed]",
      "text/plain": [
       "<Figure size 1000x600 with 1 Axes>"
      ]
     },
     "metadata": {},
     "output_type": "display_data"
    },
    {
     "data": {
      "text/plain": [
       "<Figure size 640x480 with 0 Axes>"
      ]
     },
     "metadata": {},
     "output_type": "display_data"
    }
   ],
   "source": [
    "#df.set_index('State', inplace=True)\n",
    "#df.reset_index(inplace=True)\n",
    "#df = df.drop(['level_0' , 'index'], axis=1)\n",
    "\n",
    "print (df.head())\n",
    "\n",
    "\n",
    "female = df.female_population[df.female_population <= 0.75*(10**7)]\n",
    "\n",
    "fig ,ax = plt.subplots(figsize=(10, 6))\n",
    "\n",
    "sns.scatterplot(x=female , y='Income' , data=df)\n",
    "default_xticks = ax.get_xticks()\n",
    "\n",
    "ax.set_xticks(default_xticks)\n",
    "ax.set_xticklabels(['0', '1 million', '2 million', '3 million', '4 million', '5 million', '6 million' , '7 million'] , rotation=30)\n",
    "\n",
    "# Set axis labels\n",
    "ax.set_xlabel('Female population')\n",
    "ax.set_ylabel('income')\n",
    "\n",
    "\n",
    "plt.show()\n",
    "plt.clf()\n"
   ]
  },
  {
   "cell_type": "markdown",
   "metadata": {},
   "source": [
    "9. You want to double check your work. You know from experience that these monstrous csv files probably have `nan` values in them! Print out your column with the number of women per state to see.\n",
    "\n",
    "   We can fill in those `nan`s by using pandas' `.fillna()` function.\n",
    "   \n",
    "   You have the `TotalPop` per state, and you have the `Men` per state. As an estimate for the `nan` values in the `Women` column, you could use the `TotalPop` of that state minus the `Men` for that state.\n",
    "   \n",
    "   Print out the `Women` column after filling the `nan` values to see if it worked!"
   ]
  },
  {
   "cell_type": "code",
   "execution_count": null,
   "metadata": {},
   "outputs": [],
   "source": []
  },
  {
   "cell_type": "markdown",
   "metadata": {},
   "source": [
    "10. We forgot to check for duplicates! Use `.duplicated()` on your `census` DataFrame to see if we have duplicate rows in there."
   ]
  },
  {
   "cell_type": "code",
   "execution_count": null,
   "metadata": {},
   "outputs": [],
   "source": []
  },
  {
   "cell_type": "markdown",
   "metadata": {},
   "source": [
    "11. Drop those duplicates using the `.drop_duplicates()` function."
   ]
  },
  {
   "cell_type": "code",
   "execution_count": null,
   "metadata": {},
   "outputs": [],
   "source": []
  },
  {
   "cell_type": "markdown",
   "metadata": {},
   "source": [
    "12. Make the scatterplot again. Now, it should be perfect! Your job is secure, for now."
   ]
  },
  {
   "cell_type": "code",
   "execution_count": null,
   "metadata": {},
   "outputs": [],
   "source": []
  },
  {
   "cell_type": "markdown",
   "metadata": {},
   "source": [
    "## Histogram of Races"
   ]
  },
  {
   "cell_type": "markdown",
   "metadata": {},
   "source": [
    "13. Now your boss wants you to make a bunch of histograms out of the race data that you have. Look at the `.columns` again to see what the race categories are."
   ]
  },
  {
   "cell_type": "code",
   "execution_count": null,
   "metadata": {},
   "outputs": [],
   "source": []
  },
  {
   "cell_type": "markdown",
   "metadata": {},
   "source": [
    "14. Try to make a histogram for each one!\n",
    "\n",
    "    You will have to get the columns into the numerical format, and those percentage signs will have to go.\n",
    "    \n",
    "    Don't forget to fill the `nan` values with something that makes sense! You probably dropped the duplicate rows when making your last graph, but it couldn't hurt to check for duplicates again."
   ]
  },
  {
   "cell_type": "code",
   "execution_count": null,
   "metadata": {},
   "outputs": [],
   "source": []
  },
  {
   "cell_type": "markdown",
   "metadata": {},
   "source": [
    "## Get Creative"
   ]
  },
  {
   "cell_type": "markdown",
   "metadata": {},
   "source": [
    "15. Phew. You've definitely impressed your boss on your first day of work.\n",
    "\n",
    "    But is there a way you really convey the power of pandas and Python over the drudgery of `csv` and Excel?\n",
    "    \n",
    "    Try to make some more interesting graphs to show your boss, and the world! You may need to clean the data even more to do it, or the cleaning you have already done may give you the ease of manipulation you've been searching for."
   ]
  },
  {
   "cell_type": "code",
   "execution_count": null,
   "metadata": {},
   "outputs": [],
   "source": []
  }
 ],
 "metadata": {
  "kernelspec": {
   "display_name": "Python 3 (ipykernel)",
   "language": "python",
   "name": "python3"
  },
  "language_info": {
   "codemirror_mode": {
    "name": "ipython",
    "version": 3
   },
   "file_extension": ".py",
   "mimetype": "text/x-python",
   "name": "python",
   "nbconvert_exporter": "python",
   "pygments_lexer": "ipython3",
   "version": "3.11.5"
  }
 },
 "nbformat": 4,
 "nbformat_minor": 2
}
